{
 "cells": [
  {
   "cell_type": "code",
   "execution_count": 1,
   "metadata": {
    "ExecuteTime": {
     "end_time": "2021-01-04T22:48:59.116071Z",
     "start_time": "2021-01-04T22:48:59.113168Z"
    }
   },
   "outputs": [],
   "source": [
    "# import datetime as dt\n",
    "# import pandas_datareader as pdr\n",
    "\n",
    "# ## List of symbols to grab\n",
    "# today = dt.date.today().strftime(\"%Y-%m-%d\")\n",
    "# today"
   ]
  },
  {
   "cell_type": "markdown",
   "metadata": {},
   "source": [
    "# Using JupyterDash to Develop App"
   ]
  },
  {
   "cell_type": "markdown",
   "metadata": {},
   "source": [
    "- 12/29/20"
   ]
  },
  {
   "cell_type": "code",
   "execution_count": null,
   "metadata": {
    "ExecuteTime": {
     "end_time": "2021-01-03T20:40:45.319999Z",
     "start_time": "2021-01-03T20:40:43.764082Z"
    }
   },
   "outputs": [],
   "source": [
    "\n",
    "import numpy as np\n",
    "np.random.seed(321)\n",
    "\n",
    "import pandas as pd\n",
    "import matplotlib.pyplot as plt\n",
    "import seaborn as sns\n",
    "plt.rcParams['figure.figsize'] = (12,4)\n",
    "\n",
    "import plotly.express as px\n",
    "import plotly.io as pio\n",
    "pio.templates"
   ]
  },
  {
   "cell_type": "code",
   "execution_count": null,
   "metadata": {
    "ExecuteTime": {
     "end_time": "2021-01-03T20:40:57.244096Z",
     "start_time": "2021-01-03T20:40:55.593317Z"
    }
   },
   "outputs": [],
   "source": [
    "pio.templates.default = \"seaborn\""
   ]
  },
  {
   "cell_type": "code",
   "execution_count": null,
   "metadata": {
    "ExecuteTime": {
     "end_time": "2021-01-03T20:40:57.925683Z",
     "start_time": "2021-01-03T20:40:57.245390Z"
    }
   },
   "outputs": [],
   "source": [
    "# %conda install -c anaconda pandas-datareader\n",
    "import pandas_datareader as pdr\n",
    "\n",
    "stock = 'GOOGL'\n",
    "example = pdr.DataReader(stock,'yahoo','2012','2020').reset_index()\n",
    "example"
   ]
  },
  {
   "cell_type": "code",
   "execution_count": null,
   "metadata": {
    "ExecuteTime": {
     "end_time": "2021-01-03T20:40:59.015292Z",
     "start_time": "2021-01-03T20:40:58.785649Z"
    }
   },
   "outputs": [],
   "source": [
    "pfig = px.scatter(example,x='Date',y='Adj Close',title=stock)\n",
    "pfig"
   ]
  },
  {
   "cell_type": "markdown",
   "metadata": {},
   "source": [
    "# Basic App"
   ]
  },
  {
   "cell_type": "code",
   "execution_count": null,
   "metadata": {
    "ExecuteTime": {
     "end_time": "2021-01-03T21:19:34.743866Z",
     "start_time": "2021-01-03T21:19:34.741127Z"
    }
   },
   "outputs": [],
   "source": [
    "import dash\n",
    "import dash_core_components as dcc\n",
    "import dash_html_components as html\n",
    "from dash.dependencies import Input, Output,State"
   ]
  },
  {
   "cell_type": "code",
   "execution_count": null,
   "metadata": {
    "ExecuteTime": {
     "end_time": "2021-01-03T20:41:04.336387Z",
     "start_time": "2021-01-03T20:41:04.095652Z"
    }
   },
   "outputs": [],
   "source": [
    "# !pip install -U jupyter_plotly_dash\n",
    "from jupyter_plotly_dash import JupyterDash"
   ]
  },
  {
   "cell_type": "code",
   "execution_count": null,
   "metadata": {
    "ExecuteTime": {
     "end_time": "2021-01-03T21:25:37.838540Z",
     "start_time": "2021-01-03T21:25:37.810215Z"
    }
   },
   "outputs": [],
   "source": [
    "app = JupyterDash('Example',serve_locally=False)\n",
    "app.layout = html.Div(children = [\n",
    "    html.H1('Our AMAZING Dashboard'),\n",
    "    html.H2(\"Lets see if we can make something interesting...\"),\n",
    "    dcc.Graph(figure=pfig)\n",
    "])\n",
    "# app"
   ]
  },
  {
   "cell_type": "code",
   "execution_count": null,
   "metadata": {
    "ExecuteTime": {
     "end_time": "2021-01-03T20:41:16.364739Z",
     "start_time": "2021-01-03T20:41:16.363066Z"
    }
   },
   "outputs": [],
   "source": [
    "# help(html.Div)"
   ]
  },
  {
   "cell_type": "code",
   "execution_count": null,
   "metadata": {},
   "outputs": [],
   "source": []
  },
  {
   "cell_type": "code",
   "execution_count": null,
   "metadata": {},
   "outputs": [],
   "source": []
  },
  {
   "cell_type": "markdown",
   "metadata": {},
   "source": [
    "# Extending to Multiple Stocks"
   ]
  },
  {
   "cell_type": "code",
   "execution_count": null,
   "metadata": {
    "ExecuteTime": {
     "end_time": "2021-01-03T20:41:21.051808Z",
     "start_time": "2021-01-03T20:41:17.784067Z"
    }
   },
   "outputs": [],
   "source": [
    "## List of symbols to grab\n",
    "symbols = ['FB','AAPL','GOOGL','AMZN','MSFT']\n",
    "data = {}\n",
    "for stock in symbols:\n",
    "    data[stock] = pdr.DataReader(stock,'yahoo','2012','2021')['Adj Close']\n",
    "df = pd.DataFrame(data).reset_index()\n",
    "df"
   ]
  },
  {
   "cell_type": "code",
   "execution_count": null,
   "metadata": {},
   "outputs": [],
   "source": []
  },
  {
   "cell_type": "code",
   "execution_count": null,
   "metadata": {
    "ExecuteTime": {
     "end_time": "2021-01-03T20:41:25.570464Z",
     "start_time": "2021-01-03T20:41:25.361586Z"
    }
   },
   "outputs": [],
   "source": [
    "def plot_stocks(y=['MSFT','AAPL']):\n",
    "    pfig = px.scatter(df,x='Date',y=y)\n",
    "    return pfig\n",
    "    \n",
    "plot_stocks()"
   ]
  },
  {
   "cell_type": "markdown",
   "metadata": {},
   "source": [
    "## App with Dropdown"
   ]
  },
  {
   "cell_type": "code",
   "execution_count": null,
   "metadata": {
    "ExecuteTime": {
     "end_time": "2021-01-03T20:41:31.895140Z",
     "start_time": "2021-01-03T20:41:31.892416Z"
    }
   },
   "outputs": [],
   "source": [
    "def plot_stocks(stocks=['FB','AAPL']):\n",
    "    pfig = px.scatter(df,x='Date',y=stocks)\n",
    "    return pfig"
   ]
  },
  {
   "cell_type": "code",
   "execution_count": null,
   "metadata": {
    "ExecuteTime": {
     "end_time": "2021-01-03T20:41:34.285914Z",
     "start_time": "2021-01-03T20:41:34.280588Z"
    }
   },
   "outputs": [],
   "source": [
    "def make_options(menu_choices,ignore_cols=['Date']):\n",
    "    \"\"\"Returns list of dictionary with {'label':menu_choice,'value':menu_choice}\"\"\"\n",
    "    options = []\n",
    "    for choice in menu_choices:\n",
    "        if choice not in ignore_cols:\n",
    "            options.append({'label':choice,'value':choice})\n",
    "    return options\n",
    "\n",
    "make_options(df)"
   ]
  },
  {
   "cell_type": "code",
   "execution_count": null,
   "metadata": {
    "ExecuteTime": {
     "end_time": "2021-01-03T21:25:46.823516Z",
     "start_time": "2021-01-03T21:25:46.698947Z"
    }
   },
   "outputs": [],
   "source": [
    "app = JupyterDash('Example', \n",
    "                  serve_locally=False)\n",
    "defaults = ['MSFT']\n",
    "app.layout = html.Div(children = [\n",
    "    html.H1('Our AMAZING Dashboard'),\n",
    "    html.H2(\"Lets see if we can make something interesting...\"),\n",
    "    \n",
    "    html.Div(children=[\n",
    "        \n",
    "        html.Div(id='menu',children=[\n",
    "            \n",
    "        dcc.Dropdown(id='choose_stocks',placeholder=defaults,multi=True,\n",
    "                     options=make_options(df.columns))\n",
    "        ]),\n",
    "    \n",
    "        dcc.Graph(id='line_plot',figure=plot_stocks(stocks=defaults))\n",
    "\n",
    "    ])\n",
    "])\n",
    "\n",
    "\n",
    "@app.callback(Output('line_plot','figure'),\n",
    "              [Input('choose_stocks','value')])\n",
    "def update_stocks(stocks):\n",
    "    return plot_stocks(stocks=stocks)\n",
    "# app"
   ]
  },
  {
   "cell_type": "markdown",
   "metadata": {
    "ExecuteTime": {
     "end_time": "2020-12-30T22:36:27.399417Z",
     "start_time": "2020-12-30T22:36:27.397230Z"
    }
   },
   "source": [
    "### Functionizing Loading in of Data"
   ]
  },
  {
   "cell_type": "code",
   "execution_count": null,
   "metadata": {
    "ExecuteTime": {
     "end_time": "2021-01-03T20:50:26.372910Z",
     "start_time": "2021-01-03T20:50:26.370002Z"
    }
   },
   "outputs": [],
   "source": [
    "# def make_data_plo"
   ]
  },
  {
   "cell_type": "code",
   "execution_count": null,
   "metadata": {
    "ExecuteTime": {
     "end_time": "2021-01-03T20:50:26.496377Z",
     "start_time": "2021-01-03T20:50:26.494279Z"
    }
   },
   "outputs": [],
   "source": [
    "# display(plot_df)\n",
    "# plot_stocks_df(plot_df)"
   ]
  },
  {
   "cell_type": "code",
   "execution_count": null,
   "metadata": {},
   "outputs": [],
   "source": []
  },
  {
   "cell_type": "markdown",
   "metadata": {},
   "source": [
    "### Adding Date Selection\n",
    "- https://dash.plotly.com/dash-core-components/datepickerrange"
   ]
  },
  {
   "cell_type": "code",
   "execution_count": 1,
   "metadata": {
    "ExecuteTime": {
     "end_time": "2021-01-03T21:30:13.674126Z",
     "start_time": "2021-01-03T21:30:11.862783Z"
    }
   },
   "outputs": [],
   "source": [
    "import datetime as dt\n",
    "from datetime import date\n",
    "import pandas_datareader as pdr\n",
    "\n",
    "import dash\n",
    "import dash_core_components as dcc\n",
    "import dash_html_components as html\n",
    "from dash.dependencies import Input, Output,State\n",
    "\n",
    "\n",
    "import numpy as np\n",
    "np.random.seed(321)\n",
    "\n",
    "import pandas as pd\n",
    "import matplotlib.pyplot as plt\n",
    "import seaborn as sns\n",
    "plt.rcParams['figure.figsize'] = (12,4)\n",
    "\n",
    "import plotly.express as px\n",
    "import plotly.io as pio\n",
    "pio.templates\n",
    "\n",
    "\n",
    "today = dt.date.today().strftime(\"%Y-%m-%d\")\n",
    "def get_data(start_date='2012-02-01',end_date=today,symbols = ['FB','AAPL','GOOGL','AMZN','MSFT']):\n",
    "    \n",
    "    data = {}\n",
    "    for stock in symbols:\n",
    "        try:\n",
    "            data[stock] = pdr.DataReader(stock,'yahoo',start_date,end_date)['Adj Close']\n",
    "        except:\n",
    "            print('Error with stock: '+stock)\n",
    "    df = pd.DataFrame(data).reset_index()\n",
    "    return df\n",
    "\n",
    "\n",
    "def plot_stocks_df(df=None,stocks=['FB','AAPL']):\n",
    "    if df is None:\n",
    "        df = get_data(stocks)#.reset_index()\n",
    "    stocks_exist = [s for s in stocks if s in df.columns]\n",
    "    pfig = px.scatter(df,x='Date',y=stocks_exist)\n",
    "    return pfig\n",
    "\n",
    "from jupyter_plotly_dash import JupyterDash\n",
    "app = JupyterDash('Example', \n",
    "                  serve_locally=False)\n",
    "defaults = ['MSFT','AMZN']\n",
    "# df = get_data(date(2012, 1, 1))\n",
    "\n",
    "app.layout = html.Div(children = [\n",
    "    html.H1('Our AMAZING Dashboard'),\n",
    "    \n",
    "    html.Div(children=[\n",
    "        html.Div(style={\"border\":'1px solid black','padding':'3px'},id='menu',children=[\n",
    "            html.H3('Enter stock symbols, separated by a comma.\\nPress Enter to update.'),\n",
    "\n",
    "            dcc.Input(id='choose_stocks',value='MSFT,AMZN',\n",
    "                      placeholder='MSFT,AAPL',#,\n",
    "                         style={'width': '90%', 'height': 50}),           \n",
    "\n",
    "            dcc.DatePickerRange( id='my-date-picker-range',\n",
    "                                start_date=date(2012,1,1),\n",
    "                                min_date_allowed=date(2010, 1, 1),\n",
    "                                max_date_allowed=today,#date.today(),#date(2021),\n",
    "                                end_date=today,style={'width':'50%'}),#date.today()), #date(2017, 8, 25)),\n",
    "            html.Button('Submit',id='submit',style={'size':'40 px'})\n",
    "    \n",
    "        ]),\n",
    "        \n",
    "        dcc.Graph(id='line_plot')\n",
    "\n",
    "    ])\n",
    "])\n",
    "\n",
    "@app.callback(Output('line_plot','figure'),\n",
    "              [Input('submit','n_clicks')],\n",
    "              [State('choose_stocks','value'),\n",
    "               State('my-date-picker-range', 'start_date'),\n",
    "               State('my-date-picker-range', 'end_date')])\n",
    "def update_stocks(n_clicks, stocks,start_date,end_date):\n",
    "    stocks = stocks.split(',')\n",
    "    plot_df = get_data(start_date,end_date,symbols=stocks)\n",
    "    return plot_stocks_df(df=plot_df,stocks=stocks)#,start_date,end_date)\n",
    "    \n",
    "app"
   ]
  },
  {
   "cell_type": "code",
   "execution_count": null,
   "metadata": {
    "ExecuteTime": {
     "end_time": "2021-01-03T21:24:54.317351Z",
     "start_time": "2021-01-03T21:24:54.314994Z"
    }
   },
   "outputs": [],
   "source": [
    "# stocks = ['AMZN','MSFT','garbage']\n",
    "# plot_df = get_data('2010','2013',stocks)\n",
    "\n",
    "# stocks_exist = [s for s in stocks if s in plot_df.columns]\n",
    "# plot_stocks_df(plot_df,stocks)"
   ]
  },
  {
   "cell_type": "code",
   "execution_count": null,
   "metadata": {},
   "outputs": [],
   "source": []
  }
 ],
 "metadata": {
  "kernelspec": {
   "display_name": "learn-env",
   "language": "python",
   "name": "learn-env"
  },
  "language_info": {
   "codemirror_mode": {
    "name": "ipython",
    "version": 3
   },
   "file_extension": ".py",
   "mimetype": "text/x-python",
   "name": "python",
   "nbconvert_exporter": "python",
   "pygments_lexer": "ipython3",
   "version": "3.6.11"
  },
  "toc": {
   "base_numbering": 1,
   "nav_menu": {},
   "number_sections": true,
   "sideBar": true,
   "skip_h1_title": false,
   "title_cell": "Table of Contents",
   "title_sidebar": "Contents",
   "toc_cell": false,
   "toc_position": {},
   "toc_section_display": true,
   "toc_window_display": false
  },
  "widgets": {
   "application/vnd.jupyter.widget-state+json": {
    "state": {},
    "version_major": 2,
    "version_minor": 0
   }
  }
 },
 "nbformat": 4,
 "nbformat_minor": 2
}
